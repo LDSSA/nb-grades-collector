{
 "cells": [
  {
   "cell_type": "code",
   "execution_count": 7,
   "id": "filled-progressive",
   "metadata": {},
   "outputs": [],
   "source": [
    "import nbformat\n",
    "from nbgrader import utils\n",
    "\n",
    "def grade(notebook_path):\n",
    "    nb = nbformat.read(notebook_path, as_version=nbformat.NO_CONVERT)\n",
    "    total_score = 0\n",
    "    max_total_score = 0\n",
    "    for cell in nb.cells:\n",
    "        if utils.is_grade(cell):\n",
    "            # score the notebook score\n",
    "            # max_score the maximum possible score of the notebook\n",
    "            score, max_score = utils.determine_grade(cell)\n",
    "            total_score += score\n",
    "            max_total_score += max_score\n",
    "    return total_score, max_total_score\n",
    "\n",
    "! pwd && ls\n",
    "\n",
    "grade('/home/mig/ws/ldsa/nb-grades-collector/example.ipynb')"
   ]
  },
  {
   "cell_type": "code",
   "execution_count": 8,
   "id": "above-management",
   "metadata": {},
   "outputs": [
    {
     "name": "stdout",
     "output_type": "stream",
     "text": [
      "/home/mig/ws/ldsa/nb-grades-collector\r\n",
      "LICENSE  README.md  example.ipynb  resources  src\r\n"
     ]
    }
   ],
   "source": [
    "! pwd && ls"
   ]
  },
  {
   "cell_type": "code",
   "execution_count": 12,
   "id": "classified-italian",
   "metadata": {},
   "outputs": [
    {
     "data": {
      "text/plain": [
       "(0, 0)"
      ]
     },
     "execution_count": 12,
     "metadata": {},
     "output_type": "execute_result"
    }
   ],
   "source": [
    "grade('/home/mig/ws/ldsa/nb-grades-collector/example.ipynb')"
   ]
  },
  {
   "cell_type": "code",
   "execution_count": 1,
   "id": "colonial-laugh",
   "metadata": {},
   "outputs": [
    {
     "ename": "AssertionError",
     "evalue": "",
     "output_type": "error",
     "traceback": [
      "\u001b[0;31m---------------------------------------------------------------------------\u001b[0m",
      "\u001b[0;31mAssertionError\u001b[0m                            Traceback (most recent call last)",
      "\u001b[0;32m<ipython-input-1-ce781a32d075>\u001b[0m in \u001b[0;36m<module>\u001b[0;34m\u001b[0m\n\u001b[0;32m----> 1\u001b[0;31m \u001b[0;32massert\u001b[0m \u001b[0;36m1\u001b[0m \u001b[0;34m==\u001b[0m \u001b[0;36m2\u001b[0m\u001b[0;34m\u001b[0m\u001b[0;34m\u001b[0m\u001b[0m\n\u001b[0m",
      "\u001b[0;31mAssertionError\u001b[0m: "
     ]
    }
   ],
   "source": [
    "assert 1 == 2"
   ]
  },
  {
   "cell_type": "code",
   "execution_count": 11,
   "id": "accredited-passenger",
   "metadata": {},
   "outputs": [],
   "source": [
    "assert 1 == 1"
   ]
  },
  {
   "cell_type": "code",
   "execution_count": null,
   "id": "latin-uruguay",
   "metadata": {},
   "outputs": [],
   "source": []
  }
 ],
 "metadata": {
  "kernelspec": {
   "display_name": "Python 3",
   "language": "python",
   "name": "python3"
  },
  "language_info": {
   "codemirror_mode": {
    "name": "ipython",
    "version": 3
   },
   "file_extension": ".py",
   "mimetype": "text/x-python",
   "name": "python",
   "nbconvert_exporter": "python",
   "pygments_lexer": "ipython3",
   "version": "3.7.10"
  }
 },
 "nbformat": 4,
 "nbformat_minor": 5
}
