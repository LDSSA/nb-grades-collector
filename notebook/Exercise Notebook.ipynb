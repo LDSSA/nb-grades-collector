{
 "cells": [
  {
   "cell_type": "code",
   "execution_count": 1,
   "id": "inner-section",
   "metadata": {
    "nbgrader": {
     "grade": false,
     "grade_id": "cell-ca656495bf6ce4e6",
     "locked": true,
     "schema_version": 3,
     "solution": false,
     "task": false
    }
   },
   "outputs": [],
   "source": [
    "from grading import get_grade, submit_grade"
   ]
  },
  {
   "cell_type": "markdown",
   "id": "pleased-freedom",
   "metadata": {
    "nbgrader": {
     "grade": false,
     "grade_id": "cell-9071a450d3ec3ccc",
     "locked": true,
     "schema_version": 3,
     "solution": false,
     "task": false
    }
   },
   "source": [
    "The goal of the following exercises is to do a demo on the grading process!"
   ]
  },
  {
   "cell_type": "markdown",
   "id": "computational-circular",
   "metadata": {
    "nbgrader": {
     "grade": false,
     "grade_id": "cell-3636dbc6a513532d",
     "locked": true,
     "schema_version": 3,
     "solution": false,
     "task": false
    }
   },
   "source": [
    "## Exercise 1"
   ]
  },
  {
   "cell_type": "markdown",
   "id": "swiss-mitchell",
   "metadata": {
    "nbgrader": {
     "grade": false,
     "grade_id": "cell-cf805ac2da9f0dec",
     "locked": true,
     "schema_version": 3,
     "solution": false,
     "task": false
    }
   },
   "source": [
    "Create a string variable `hello`  with value \"hello\"."
   ]
  },
  {
   "cell_type": "code",
   "execution_count": 2,
   "id": "sustained-support",
   "metadata": {
    "nbgrader": {
     "grade": false,
     "grade_id": "cell-04d8a63358035edf",
     "locked": false,
     "schema_version": 3,
     "solution": true,
     "task": false
    }
   },
   "outputs": [],
   "source": [
    "# hello = \n",
    "### BEGIN SOLUTION\n",
    "hello = \"hello\"\n",
    "### END SOLUTION"
   ]
  },
  {
   "cell_type": "code",
   "execution_count": 3,
   "id": "better-burns",
   "metadata": {
    "nbgrader": {
     "grade": true,
     "grade_id": "cell-544982d3bdbdc1ff",
     "locked": true,
     "points": 10,
     "schema_version": 3,
     "solution": false,
     "task": false
    }
   },
   "outputs": [],
   "source": [
    "assert hello == \"hello\""
   ]
  },
  {
   "cell_type": "markdown",
   "id": "consolidated-mounting",
   "metadata": {
    "nbgrader": {
     "grade": false,
     "grade_id": "cell-5755fff67e9c92e3",
     "locked": true,
     "schema_version": 3,
     "solution": false,
     "task": false
    }
   },
   "source": [
    "## Exercise 2"
   ]
  },
  {
   "cell_type": "markdown",
   "id": "quantitative-uncertainty",
   "metadata": {
    "nbgrader": {
     "grade": false,
     "grade_id": "cell-e1390f7e8e86d004",
     "locked": true,
     "schema_version": 3,
     "solution": false,
     "task": false
    }
   },
   "source": [
    "Create a string variable 'world'  with value \"world\"."
   ]
  },
  {
   "cell_type": "code",
   "execution_count": 4,
   "id": "cloudy-portrait",
   "metadata": {
    "nbgrader": {
     "grade": false,
     "grade_id": "cell-e90f0cd8bd1cc3eb",
     "locked": false,
     "schema_version": 3,
     "solution": true,
     "task": false
    }
   },
   "outputs": [],
   "source": [
    "#world = \n",
    "### BEGIN SOLUTION\n",
    "world = \"world\"\n",
    "### END SOLUTION"
   ]
  },
  {
   "cell_type": "code",
   "execution_count": 5,
   "id": "nearby-bronze",
   "metadata": {
    "nbgrader": {
     "grade": true,
     "grade_id": "cell-37346dd062259224",
     "locked": true,
     "points": 10,
     "schema_version": 3,
     "solution": false,
     "task": false
    }
   },
   "outputs": [],
   "source": [
    "assert world == \"world\""
   ]
  },
  {
   "cell_type": "markdown",
   "id": "hollywood-bicycle",
   "metadata": {
    "nbgrader": {
     "grade": false,
     "grade_id": "cell-bbc25d01a21dfed9",
     "locked": true,
     "schema_version": 3,
     "solution": false,
     "task": false
    }
   },
   "source": [
    "## Grading Process"
   ]
  },
  {
   "cell_type": "markdown",
   "id": "republican-thread",
   "metadata": {
    "nbgrader": {
     "grade": false,
     "grade_id": "cell-b79996d9d0ed1022",
     "locked": true,
     "schema_version": 3,
     "solution": false,
     "task": false
    }
   },
   "source": [
    "congratulation, you completed SLU0! 🥳 \n",
    "Let's grade it 💪 and send some feedback to the instructors.      "
   ]
  },
  {
   "cell_type": "markdown",
   "id": "polar-astronomy",
   "metadata": {
    "nbgrader": {
     "grade": false,
     "grade_id": "cell-2e9042452347c6d2",
     "locked": true,
     "schema_version": 3,
     "solution": false,
     "task": false
    }
   },
   "source": [
    "In order to do that, first, please save the notebook. For that, click on 💾, top bar of the notebook, first icon at left.   \n",
    "Then, run the cell below and answer to the questions."
   ]
  },
  {
   "cell_type": "markdown",
   "id": "great-fault",
   "metadata": {
    "nbgrader": {
     "grade": false,
     "grade_id": "cell-d69a7d1dec6091e2",
     "locked": true,
     "schema_version": 3,
     "solution": false,
     "task": false
    }
   },
   "source": [
    "In order to register your account on the grading system, and save tour grade, you will need your slack Member ID.   \n",
    "You can check your slack Member Id on your slack profile. "
   ]
  },
  {
   "cell_type": "markdown",
   "id": "taken-robertson",
   "metadata": {
    "nbgrader": {
     "grade": false,
     "grade_id": "cell-37ab4f7c57ee0245",
     "locked": true,
     "schema_version": 3,
     "solution": false,
     "task": false
    }
   },
   "source": [
    "Before starting, change the following variable `grading` from False to True."
   ]
  },
  {
   "cell_type": "code",
   "execution_count": 6,
   "id": "devoted-parking",
   "metadata": {
    "nbgrader": {
     "grade": false,
     "grade_id": "cell-c64ce8bc30e3a0f2",
     "locked": false,
     "schema_version": 3,
     "solution": true,
     "task": false
    }
   },
   "outputs": [],
   "source": [
    "#grading = !replace me with True\n",
    "slack_id = None  # example: \"UTS63FC02\"\n",
    "slack_usename = None # example: \"my slack usernamr\"\n",
    "email = None # example: \"my_email@lisbondatascience.org\"\n",
    "notebook_saved = False #change to the value True after saving this notebook\n",
    "### BEGIN SOLUTION\n",
    "slack_id = \"ADMINID\"\n",
    "slack_username = \"ADMINUSERNAME\"\n",
    "email = \"ADMINEMAIL\"\n",
    "notebook_saved = True\n",
    "### END SOLUTION"
   ]
  },
  {
   "cell_type": "code",
   "execution_count": 8,
   "id": "driving-tiffany",
   "metadata": {
    "nbgrader": {
     "grade": false,
     "grade_id": "cell-cdb84a6deb449648",
     "locked": true,
     "schema_version": 3,
     "solution": false,
     "task": false
    }
   },
   "outputs": [
    {
     "name": "stdout",
     "output_type": "stream",
     "text": [
      "{\"learning_unit\": 0, \"slack_id\": \"ADMINID\", \"grade\": 10, \"metadata\": {\"slack_username\": \"ADMINUSERNAME\", \"email\": \"ADMINEMAIL\", \"max_grade\": 20.0}}\n",
      "Whoopsie Daisy\n"
     ]
    }
   ],
   "source": [
    "#run me\n",
    "assert slack_id is not None, \"Please replace this variable with your slack Member Id\"\n",
    "assert slack_username is not None, \"Please replace this variable with your slack username\"\n",
    "assert email is not None, \"Please replace this variable with your email\"\n",
    "assert notebook_saved is True, \"Please make sure you save the notebook before running this cell and change this variable to True\"\n",
    "grade, max_grade = get_grade(\"Exercise Notebook.ipynb\")\n",
    "submit_grade(slack_id, slack_username, email, int(grade), max_grade, 0)"
   ]
  },
  {
   "cell_type": "code",
   "execution_count": null,
   "id": "animal-evolution",
   "metadata": {},
   "outputs": [],
   "source": []
  }
 ],
 "metadata": {
  "celltoolbar": "Create Assignment",
  "kernelspec": {
   "display_name": "Python 3",
   "language": "python",
   "name": "python3"
  },
  "language_info": {
   "codemirror_mode": {
    "name": "ipython",
    "version": 3
   },
   "file_extension": ".py",
   "mimetype": "text/x-python",
   "name": "python",
   "nbconvert_exporter": "python",
   "pygments_lexer": "ipython3",
   "version": "3.8.8"
  }
 },
 "nbformat": 4,
 "nbformat_minor": 5
}
